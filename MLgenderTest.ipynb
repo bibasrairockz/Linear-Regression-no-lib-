{
 "cells": [
  {
   "cell_type": "code",
   "execution_count": 3,
   "id": "a8d0b548-07d8-4d0a-a965-25d8a7533e16",
   "metadata": {},
   "outputs": [],
   "source": [
    "import pandas as pd, numpy as np, matplotlib.pyplot as plt, math\n",
    "from sklearn.model_selection import train_test_split"
   ]
  },
  {
   "cell_type": "code",
   "execution_count": 4,
   "id": "a86707c2-75e6-4a69-9769-85136a066072",
   "metadata": {},
   "outputs": [],
   "source": [
    "df =  pd.read_csv(\"data.csv\")"
   ]
  },
  {
   "cell_type": "code",
   "execution_count": 5,
   "id": "64fbb31b-fd46-408a-bdea-cf73e9af8269",
   "metadata": {},
   "outputs": [
    {
     "data": {
      "text/html": [
       "<div>\n",
       "<style scoped>\n",
       "    .dataframe tbody tr th:only-of-type {\n",
       "        vertical-align: middle;\n",
       "    }\n",
       "\n",
       "    .dataframe tbody tr th {\n",
       "        vertical-align: top;\n",
       "    }\n",
       "\n",
       "    .dataframe thead th {\n",
       "        text-align: right;\n",
       "    }\n",
       "</style>\n",
       "<table border=\"1\" class=\"dataframe\">\n",
       "  <thead>\n",
       "    <tr style=\"text-align: right;\">\n",
       "      <th></th>\n",
       "      <th>gender</th>\n",
       "      <th>race_ethnicity</th>\n",
       "      <th>parental_level_of_education</th>\n",
       "      <th>lunch</th>\n",
       "      <th>test_preparation_course</th>\n",
       "      <th>math_score</th>\n",
       "      <th>reading_score</th>\n",
       "      <th>writing_score</th>\n",
       "    </tr>\n",
       "  </thead>\n",
       "  <tbody>\n",
       "    <tr>\n",
       "      <th>0</th>\n",
       "      <td>female</td>\n",
       "      <td>group B</td>\n",
       "      <td>bachelor's degree</td>\n",
       "      <td>standard</td>\n",
       "      <td>none</td>\n",
       "      <td>72</td>\n",
       "      <td>72</td>\n",
       "      <td>74</td>\n",
       "    </tr>\n",
       "    <tr>\n",
       "      <th>1</th>\n",
       "      <td>female</td>\n",
       "      <td>group C</td>\n",
       "      <td>some college</td>\n",
       "      <td>standard</td>\n",
       "      <td>completed</td>\n",
       "      <td>69</td>\n",
       "      <td>90</td>\n",
       "      <td>88</td>\n",
       "    </tr>\n",
       "    <tr>\n",
       "      <th>2</th>\n",
       "      <td>female</td>\n",
       "      <td>group B</td>\n",
       "      <td>master's degree</td>\n",
       "      <td>standard</td>\n",
       "      <td>none</td>\n",
       "      <td>90</td>\n",
       "      <td>95</td>\n",
       "      <td>93</td>\n",
       "    </tr>\n",
       "    <tr>\n",
       "      <th>3</th>\n",
       "      <td>male</td>\n",
       "      <td>group A</td>\n",
       "      <td>associate's degree</td>\n",
       "      <td>free/reduced</td>\n",
       "      <td>none</td>\n",
       "      <td>47</td>\n",
       "      <td>57</td>\n",
       "      <td>44</td>\n",
       "    </tr>\n",
       "    <tr>\n",
       "      <th>4</th>\n",
       "      <td>male</td>\n",
       "      <td>group C</td>\n",
       "      <td>some college</td>\n",
       "      <td>standard</td>\n",
       "      <td>none</td>\n",
       "      <td>76</td>\n",
       "      <td>78</td>\n",
       "      <td>75</td>\n",
       "    </tr>\n",
       "  </tbody>\n",
       "</table>\n",
       "</div>"
      ],
      "text/plain": [
       "   gender race_ethnicity parental_level_of_education         lunch  \\\n",
       "0  female        group B           bachelor's degree      standard   \n",
       "1  female        group C                some college      standard   \n",
       "2  female        group B             master's degree      standard   \n",
       "3    male        group A          associate's degree  free/reduced   \n",
       "4    male        group C                some college      standard   \n",
       "\n",
       "  test_preparation_course  math_score  reading_score  writing_score  \n",
       "0                    none          72             72             74  \n",
       "1               completed          69             90             88  \n",
       "2                    none          90             95             93  \n",
       "3                    none          47             57             44  \n",
       "4                    none          76             78             75  "
      ]
     },
     "execution_count": 5,
     "metadata": {},
     "output_type": "execute_result"
    }
   ],
   "source": [
    "df.head()"
   ]
  },
  {
   "cell_type": "code",
   "execution_count": 6,
   "id": "741d71bf-21b0-4497-a689-ccb843164330",
   "metadata": {},
   "outputs": [],
   "source": [
    "df.loc[df[\"gender\"]==\"male\",\"gender\"] = 0.\n",
    "df.loc[df[\"gender\"]==\"female\",\"gender\"] = 1."
   ]
  },
  {
   "cell_type": "code",
   "execution_count": 7,
   "id": "4ad9ac0d-87a6-43e5-82a7-17e7108140f8",
   "metadata": {},
   "outputs": [
    {
     "data": {
      "text/html": [
       "<div>\n",
       "<style scoped>\n",
       "    .dataframe tbody tr th:only-of-type {\n",
       "        vertical-align: middle;\n",
       "    }\n",
       "\n",
       "    .dataframe tbody tr th {\n",
       "        vertical-align: top;\n",
       "    }\n",
       "\n",
       "    .dataframe thead th {\n",
       "        text-align: right;\n",
       "    }\n",
       "</style>\n",
       "<table border=\"1\" class=\"dataframe\">\n",
       "  <thead>\n",
       "    <tr style=\"text-align: right;\">\n",
       "      <th></th>\n",
       "      <th>gender</th>\n",
       "      <th>race_ethnicity</th>\n",
       "      <th>parental_level_of_education</th>\n",
       "      <th>lunch</th>\n",
       "      <th>test_preparation_course</th>\n",
       "      <th>math_score</th>\n",
       "      <th>reading_score</th>\n",
       "      <th>writing_score</th>\n",
       "    </tr>\n",
       "  </thead>\n",
       "  <tbody>\n",
       "    <tr>\n",
       "      <th>0</th>\n",
       "      <td>1.0</td>\n",
       "      <td>group B</td>\n",
       "      <td>bachelor's degree</td>\n",
       "      <td>standard</td>\n",
       "      <td>none</td>\n",
       "      <td>72</td>\n",
       "      <td>72</td>\n",
       "      <td>74</td>\n",
       "    </tr>\n",
       "    <tr>\n",
       "      <th>1</th>\n",
       "      <td>1.0</td>\n",
       "      <td>group C</td>\n",
       "      <td>some college</td>\n",
       "      <td>standard</td>\n",
       "      <td>completed</td>\n",
       "      <td>69</td>\n",
       "      <td>90</td>\n",
       "      <td>88</td>\n",
       "    </tr>\n",
       "    <tr>\n",
       "      <th>2</th>\n",
       "      <td>1.0</td>\n",
       "      <td>group B</td>\n",
       "      <td>master's degree</td>\n",
       "      <td>standard</td>\n",
       "      <td>none</td>\n",
       "      <td>90</td>\n",
       "      <td>95</td>\n",
       "      <td>93</td>\n",
       "    </tr>\n",
       "    <tr>\n",
       "      <th>3</th>\n",
       "      <td>0.0</td>\n",
       "      <td>group A</td>\n",
       "      <td>associate's degree</td>\n",
       "      <td>free/reduced</td>\n",
       "      <td>none</td>\n",
       "      <td>47</td>\n",
       "      <td>57</td>\n",
       "      <td>44</td>\n",
       "    </tr>\n",
       "    <tr>\n",
       "      <th>4</th>\n",
       "      <td>0.0</td>\n",
       "      <td>group C</td>\n",
       "      <td>some college</td>\n",
       "      <td>standard</td>\n",
       "      <td>none</td>\n",
       "      <td>76</td>\n",
       "      <td>78</td>\n",
       "      <td>75</td>\n",
       "    </tr>\n",
       "  </tbody>\n",
       "</table>\n",
       "</div>"
      ],
      "text/plain": [
       "  gender race_ethnicity parental_level_of_education         lunch  \\\n",
       "0    1.0        group B           bachelor's degree      standard   \n",
       "1    1.0        group C                some college      standard   \n",
       "2    1.0        group B             master's degree      standard   \n",
       "3    0.0        group A          associate's degree  free/reduced   \n",
       "4    0.0        group C                some college      standard   \n",
       "\n",
       "  test_preparation_course  math_score  reading_score  writing_score  \n",
       "0                    none          72             72             74  \n",
       "1               completed          69             90             88  \n",
       "2                    none          90             95             93  \n",
       "3                    none          47             57             44  \n",
       "4                    none          76             78             75  "
      ]
     },
     "execution_count": 7,
     "metadata": {},
     "output_type": "execute_result"
    }
   ],
   "source": [
    "df.head()"
   ]
  },
  {
   "cell_type": "code",
   "execution_count": 8,
   "id": "3e1f0493-a1ba-4f95-beb5-6996f080d34e",
   "metadata": {},
   "outputs": [],
   "source": [
    "x = df[[\"math_score\",\"reading_score\"]].to_numpy()\n",
    "y = df[\"gender\"].to_numpy()"
   ]
  },
  {
   "cell_type": "code",
   "execution_count": 9,
   "id": "f664ac3c-3356-4dfc-b7fb-5b63dc871fdf",
   "metadata": {},
   "outputs": [
    {
     "name": "stdout",
     "output_type": "stream",
     "text": [
      "[[72 72]\n",
      " [69 90]\n",
      " [90 95]\n",
      " [47 57]\n",
      " [76 78]]\n",
      "[1.0 1.0 1.0 0.0 0.0]\n"
     ]
    }
   ],
   "source": [
    "print(x[:5,:])\n",
    "print(y[:5])"
   ]
  },
  {
   "cell_type": "code",
   "execution_count": 10,
   "id": "1c01f8a5-8318-46c6-a4b6-f4862af849ac",
   "metadata": {},
   "outputs": [
    {
     "data": {
      "image/png": "[encoded data removed]",
      "text/plain": [
       "<Figure size 640x480 with 1 Axes>"
      ]
     },
     "metadata": {},
     "output_type": "display_data"
    }
   ],
   "source": [
    "female_data = x[y == 1.]\n",
    "male_data = x[y == 0.]\n",
    "\n",
    "plt.scatter(male_data[:, 0], male_data[:, 1], c='red', label='Male(0)', marker='+')\n",
    "\n",
    "plt.scatter(female_data[:, 0], female_data[:, 1], c='blue', label='Female(1)', marker='+')\n",
    "\n",
    "\n",
    "plt.xlabel('Math score')\n",
    "plt.ylabel('Reading score')\n",
    "plt.title('DATA PLOT')\n",
    "\n",
    "plt.legend()\n",
    "\n",
    "plt.show()"
   ]
  },
  {
   "cell_type": "code",
   "execution_count": null,
   "id": "65a29e8d-e531-453a-bb80-80812ed80427",
   "metadata": {},
   "outputs": [],
   "source": []
  },
  {
   "cell_type": "code",
   "execution_count": 30,
   "id": "84191c08-a75e-4486-a8f0-99beccdf1df1",
   "metadata": {},
   "outputs": [],
   "source": [
    "x_train, x_test, y_train, y_test = train_test_split(x, y, test_size = 0.20, random_state = 42)"
   ]
  },
  {
   "cell_type": "code",
   "execution_count": 31,
   "id": "5af4a8c2-a476-4bda-a34a-ec6cb365c806",
   "metadata": {},
   "outputs": [],
   "source": [
    "def cal_a(x,w,b):\n",
    "    z = np.dot(x,w) + b\n",
    "    z = z.astype(float)\n",
    "    a = 1/(1+np.exp(-z))\n",
    "    return a"
   ]
  },
  {
   "cell_type": "code",
   "execution_count": 32,
   "id": "92056a04-3425-44b1-ba71-3409da9877cd",
   "metadata": {},
   "outputs": [],
   "source": [
    "def cal_cost(x,y,w,b):\n",
    "    a = cal_a(x,w,b)\n",
    "    m = y.shape[0]\n",
    "    cost = (1/m)*(-1)*sum((y*np.log(a)) + ((1-y)*np.log(1-a)))\n",
    "    return cost"
   ]
  },
  {
   "cell_type": "code",
   "execution_count": 33,
   "id": "aa9d08fa-ad5c-40ed-aa27-2ca9e5e84fee",
   "metadata": {},
   "outputs": [],
   "source": [
    "def cal_slop(x,y,w,b):\n",
    "    a = cal_a(x,w,b)\n",
    "    m = y.shape[0]\n",
    "    dj_dw = (1/m)*np.dot((a-y), x)\n",
    "    dj_db = (1/m)*sum(a-y)\n",
    "    return dj_dw, dj_db"
   ]
  },
  {
   "cell_type": "code",
   "execution_count": 34,
   "id": "893bde95-5d6d-4138-ad31-beb32abef9b2",
   "metadata": {},
   "outputs": [],
   "source": [
    "def gradient_descent(x,y,w,b,iti,alpha):\n",
    "    jHis = []\n",
    "    wHis = []\n",
    "    bHis = []\n",
    "    check = True\n",
    "    for i in range(iti):\n",
    "        dj_dw, dj_db = cal_slop(x,y,w,b)\n",
    "\n",
    "        w = w - alpha*dj_dw\n",
    "        b = b - alpha*dj_db\n",
    "\n",
    "        if check == True:\n",
    "            print(w,b)\n",
    "            check = False\n",
    "        \n",
    "        jHis.append(cal_cost(x,y,w,b))\n",
    "        wHis.append(w)\n",
    "        bHis.append(b)\n",
    "\n",
    "        if i%(iti/10) == 0 or iti-1 == i:\n",
    "            print(f\"Itiration {i}: {cal_cost(x,y,w,b):2.2f}\")\n",
    "\n",
    "    return jHis, wHis, bHis\n",
    "        "
   ]
  },
  {
   "cell_type": "code",
   "execution_count": 35,
   "id": "cc916a4c-3d2c-4816-b143-614496c1af14",
   "metadata": {},
   "outputs": [
    {
     "name": "stdout",
     "output_type": "stream",
     "text": [
      "[0.0048440098791448175 0.0026397783639808834] -0.9999812345302533\n",
      "Itiration 0: 0.74\n",
      "Itiration 1000: 0.48\n",
      "Itiration 2000: 0.43\n",
      "Itiration 3000: 0.42\n",
      "Itiration 4000: 0.41\n",
      "Itiration 5000: 0.40\n",
      "Itiration 6000: 0.40\n",
      "Itiration 7000: 0.40\n",
      "Itiration 8000: 0.40\n",
      "Itiration 9000: 0.40\n",
      "Itiration 9999: 0.40\n"
     ]
    }
   ],
   "source": [
    "w = 0.01*(np.random.rand(2) - 0.5)\n",
    "b = -1\n",
    "iti = 10000\n",
    "alpha = 0.0001\n",
    "\n",
    "JHis, wHis, bHis = gradient_descent(x_train,y_train,w,b,iti,alpha)"
   ]
  },
  {
   "cell_type": "code",
   "execution_count": 36,
   "id": "867645db-b3f1-4a22-8199-56bb89fe3e80",
   "metadata": {},
   "outputs": [],
   "source": [
    "def predict(x,w,b):\n",
    "    a = cal_a(x,w,b)\n",
    "    return a >= 0.5"
   ]
  },
  {
   "cell_type": "code",
   "execution_count": 37,
   "id": "8e70c0bd-41d1-42dd-9049-df5e97fb67f8",
   "metadata": {},
   "outputs": [
    {
     "name": "stdout",
     "output_type": "stream",
     "text": [
      "Accuracy: 51.5\n"
     ]
    }
   ],
   "source": [
    "p = predict(x_test,w,b)\n",
    "print(f\"Accuracy: {np.mean(p == y_test) * 100}\")"
   ]
  },
  {
   "cell_type": "code",
   "execution_count": null,
   "id": "22c224d6-3f6a-46ec-81b9-bba9c95c6e52",
   "metadata": {},
   "outputs": [],
   "source": []
  },
  {
   "cell_type": "code",
   "execution_count": 38,
   "id": "fbb7377d-d17b-458c-a3de-d80dabe281b9",
   "metadata": {},
   "outputs": [],
   "source": [
    "def compute_cost_reg(X, y, w, b, lambda_):\n",
    "    m, n = X.shape\n",
    "    cost_without_reg = cal_cost(X, y, w, b)    \n",
    "    reg_cost = 0.        \n",
    "    # print(f\"cost_without_reg = {cost_without_reg}\")\n",
    "    \n",
    "    for j in range(n):\n",
    "        reg_cost += w[j]**2\n",
    "    # print(lambda_)\n",
    "    total_cost = cost_without_reg + (lambda_/(2 * m)) * reg_cost\n",
    "    \n",
    "    # print(f\"total cost = {total_cost}\")\n",
    "\n",
    "    return total_cost"
   ]
  },
  {
   "cell_type": "code",
   "execution_count": 39,
   "id": "bc66fd31-130d-43b8-85e1-dfeb31c8bd44",
   "metadata": {},
   "outputs": [
    {
     "name": "stdout",
     "output_type": "stream",
     "text": [
      "Regularized cost : 0.710951984180102\n"
     ]
    }
   ],
   "source": [
    "np.random.seed(1)\n",
    "initial_w = np.zeros(x_train.shape[1])\n",
    "initial_b = 0.5\n",
    "lambda_ = 0.5\n",
    "cost = compute_cost_reg(x_train, y_train, initial_w, initial_b, lambda_)\n",
    "\n",
    "print(\"Regularized cost :\", cost)"
   ]
  },
  {
   "cell_type": "code",
   "execution_count": 40,
   "id": "6cc23554-be31-4c82-8679-f912f945a2f8",
   "metadata": {},
   "outputs": [],
   "source": [
    "def compute_gradient_reg(X, y, w, b, lambda_, tt): \n",
    "    m, n = X.shape \n",
    "    dj_dw, dj_db = cal_slop(X, y, w, b)\n",
    "\n",
    "    for j in range(n):\n",
    "        dj_dw_j_reg = (lambda_/m)*w[j]\n",
    "        dj_dw[j] = dj_dw[j]+dj_dw_j_reg   \n",
    "    \n",
    "    # for i in range(10):\n",
    "    #     print(f\"dj_dw_j_reg{i} = {dj_dw[i]}\")\n",
    "                    \n",
    "    return dj_db, dj_dw"
   ]
  },
  {
   "cell_type": "code",
   "execution_count": 41,
   "id": "6e515e4e-a5bf-470c-883f-f764fa6a036a",
   "metadata": {},
   "outputs": [],
   "source": [
    "def gradient_descent(X, y, w_in, b_in, cost_function, gradient_function, alpha, num_iters, lambda_): \n",
    "    m = len(X)\n",
    "    J_history = []\n",
    "    w_history = []\n",
    "    check = True\n",
    "    for i in range(num_iters):\n",
    "        # if i==0:\n",
    "        #     print(f\"w_in = {w_in}\");\n",
    "        #     print(f\"b_in = {b_in}\\n\");  \n",
    "        \n",
    "        dj_db, dj_dw = gradient_function(X, y, w_in, b_in, lambda_, i)   \n",
    "\n",
    "        if check:\n",
    "            print(f\"Before w_in: {w_in}\")\n",
    "        \n",
    "        w_in = w_in - alpha * dj_dw               \n",
    "        b_in = b_in - alpha * dj_db \n",
    "\n",
    "        if check:\n",
    "            print(f\"After w_in: {w_in} -= alpha({alpha}) * dj_dw({dj_dw})\")\n",
    "            check = False\n",
    "        \n",
    "        # if i<3:\n",
    "        #     print(f\"w_in = {w_in}\");\n",
    "        #     print(f\"b_in = {b_in}\\n\");  \n",
    "\n",
    "        if i<100000:     \n",
    "            cost =  cost_function(X, y, w_in, b_in, lambda_)\n",
    "            J_history.append(cost)\n",
    "\n",
    "        if i% math.ceil(num_iters/10) == 0 or i == (num_iters-1):\n",
    "            w_history.append(w_in)\n",
    "            print(f\"Iteration {i:4}: Cost {float(J_history[-1]):8.2f}   \")\n",
    "        \n",
    "    return w_in, b_in, J_history, w_history"
   ]
  },
  {
   "cell_type": "code",
   "execution_count": 42,
   "id": "276fe452-0ea4-4add-ae2d-9d25a3500c29",
   "metadata": {},
   "outputs": [
    {
     "name": "stdout",
     "output_type": "stream",
     "text": [
      "Before w_in: [-0.00082978  0.00220324]\n",
      "After w_in: [0.002422989001050886 0.005910615149936639] -= alpha(0.0001) * dj_dw([-32.52768954025146 -37.07370215515057])\n",
      "Iteration    0: Cost     1.83   \n",
      "Iteration 1000: Cost     0.51   \n",
      "Iteration 2000: Cost     0.45   \n",
      "Iteration 3000: Cost     0.42   \n",
      "Iteration 4000: Cost     0.41   \n",
      "Iteration 5000: Cost     0.41   \n",
      "Iteration 6000: Cost     0.40   \n",
      "Iteration 7000: Cost     0.40   \n",
      "Iteration 8000: Cost     0.40   \n",
      "Iteration 9000: Cost     0.40   \n",
      "Iteration 9999: Cost     0.40   \n"
     ]
    }
   ],
   "source": [
    "np.random.seed(1)\n",
    "initial_w = 0.01 * (np.random.rand(x_train.shape[1])-0.5)\n",
    "initial_b = -4\n",
    "#print(initial_w)\n",
    "lambda_ = 0.001                                        \n",
    "iterations = 10000\n",
    "alpha = 0.0001\n",
    "\n",
    "w,b, J_history,_ = gradient_descent(x_train, y_train, initial_w, initial_b, compute_cost_reg, compute_gradient_reg, alpha, iterations, lambda_)"
   ]
  },
  {
   "cell_type": "code",
   "execution_count": 43,
   "id": "7b564759-abb5-44aa-90ef-05936cc28c02",
   "metadata": {},
   "outputs": [
    {
     "name": "stdout",
     "output_type": "stream",
     "text": [
      "Accuracy: 88.0\n"
     ]
    }
   ],
   "source": [
    "p = predict(x_test,w,b)\n",
    "print(f\"Accuracy: {np.mean(p == y_test) * 100}\")"
   ]
  },
  {
   "cell_type": "code",
   "execution_count": 44,
   "id": "26fbf322-b3e7-4adc-97a2-635be1da62e3",
   "metadata": {},
   "outputs": [],
   "source": [
    "def plot_J(J,iti):\n",
    "    i = range(1,iti+1)\n",
    "    plt.plot(i,J)\n",
    "    plt.xlabel(\"Itiration\")\n",
    "    plt.ylabel(\"Cost\")\n",
    "    plt.title(\"J vs itiration\")\n",
    "    plt.show()\n"
   ]
  },
  {
   "cell_type": "code",
   "execution_count": 45,
   "id": "02836899-c8ad-46f9-9b47-2fc982bb85ee",
   "metadata": {},
   "outputs": [
    {
     "data": {
      "image/png": "[encoded data removed]",
      "text/plain": [
       "<Figure size 640x480 with 1 Axes>"
      ]
     },
     "metadata": {},
     "output_type": "display_data"
    }
   ],
   "source": [
    "plot_J(JHis,iti)"
   ]
  },
  {
   "cell_type": "code",
   "execution_count": null,
   "id": "29be783e-76a4-472d-91c1-0c4478858324",
   "metadata": {},
   "outputs": [],
   "source": []
  }
 ],
 "metadata": {
  "kernelspec": {
   "display_name": "Python 3 (ipykernel)",
   "language": "python",
   "name": "python3"
  },
  "language_info": {
   "codemirror_mode": {
    "name": "ipython",
    "version": 3
   },
   "file_extension": ".py",
   "mimetype": "text/x-python",
   "name": "python",
   "nbconvert_exporter": "python",
   "pygments_lexer": "ipython3",
   "version": "3.11.5"
  }
 },
 "nbformat": 4,
 "nbformat_minor": 5
}
